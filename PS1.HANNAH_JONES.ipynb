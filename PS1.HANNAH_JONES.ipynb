{
 "cells": [
  {
   "cell_type": "markdown",
   "metadata": {},
   "source": [
    "# PS1\n",
    "## Hannah Jones\n",
    "Nueral Networks and Machine Learning \\\n",
    "Fall 2020 \\\n",
    "CSCI 520, Martin White \\\n",
    "Due: Sept 29\n",
    "\n",
    "\n",
    "## Contents\n",
    "1. `AML Ex:1.[1-6,10]`\n",
    "2. `PRML 1.[1,5,6,9,11,12]` Attached by PDF\n",
    "---"
   ]
  },
  {
   "cell_type": "markdown",
   "metadata": {},
   "source": [
    "### AML Learning From Data"
   ]
  },
  {
   "cell_type": "markdown",
   "metadata": {},
   "source": [
    "### Exercise 1. 1\n",
    "1.1 Express the following tasks in a framework of learning from data by specifying the input space $X$, output space $Y$, target function $f: X \\rightarrow Y$, and the specifics of the data set that we will learn from.\n",
    "\n",
    "(a) Medical diagnosis: A patient walks in with a medical history and some symptoms, and you want to identify the problem.\n",
    "\n",
    "| Learning Framework |  |\n",
    "| :-------------- | :--- |\n",
    "| Input Space     | Vector of symptoms a patient could have |\n",
    "| Output Space    | All possible diseases |\n",
    "| Target Function | Categorizing symptoms asssociated with disease |\n",
    "| Learned         | Severity of symptoms for each disease |\n",
    "\n",
    "(b)Handwritten digit recognition\n",
    "\n",
    "| Learning Framework |  |\n",
    "| :-------------- | :--- |\n",
    "| Input Space     | Images of handwritten numbers |\n",
    "| Output Space    | Numbers {0,1,2,3,4,5,6,7,8,9} |\n",
    "| Target Function | Categorizing handwritten number images with true number|\n",
    "| Learned         | Image properties (vectors of 0,1s in pixel locations) |\n",
    "\n",
    "(c) Determing if email is spam or not\n",
    "\n",
    "| Learning Framework |  |\n",
    "| :-------------- | :--- |\n",
    "| Input Space     | List containing subject line and sender email address|\n",
    "| Output Space    | Yes/No |\n",
    "| Target Function | Determing if address is unknown and keywords of subject line |\n",
    "| Learned         | Words used in subject line and email address|\n",
    "\n",
    "(d) Predicting how an electric load (lights, appliances) varies with price, temperature, and day of the week (3 dimensions of learning)\n",
    "\n",
    "| Learning Framework |  |\n",
    "| :-------------- | :--- |\n",
    "| Input Space     | Vector of price, temperature of electrical current (usage) and week day|\n",
    "| Output Space    | Variation of electric load |\n",
    "| Target Function | Formula to determine electric load variation|\n",
    "| Learned         | Load variation by each dimension|\n",
    "\n",
    "\n",
    "(e) A problem of interest to me -- Ask Winson does this mean finding data and running it or simple example?\n",
    "\n",
    "---"
   ]
  },
  {
   "cell_type": "markdown",
   "metadata": {},
   "source": [
    "### Exercise 1. 2\n",
    "1.2 Suppose we use a perceptron to detect spam messages. Each email message is represented by the frequency of occurence of keywords. (spam = +1)\n",
    "\n",
    "(a) `LBad ={'only','sale','needed','searching','found','credit','score','looking','bankruptcy','somebody','avoid'}` \n",
    "\n",
    "(b) `LGood = {'[User name]','Best','Wondering','Signed','Replying','Responding','Forwarded','Requested'}` \n",
    "        \n",
    "(c) What parameter in the perceptron directly affects how many borderline messages endup being classified as spam : $b$ since the weights and the thresholds are determined by the bias.\n",
    "\n",
    "----"
   ]
  },
  {
   "cell_type": "markdown",
   "metadata": {},
   "source": [
    "### Exercise 1. 3\n",
    "1.3 The weight update rule in (1.3) has the nice interpretation that it moves in the direction of classifying $\\mathbf{x}(t)$ correctly. "
   ]
  },
  {
   "cell_type": "markdown",
   "metadata": {},
   "source": [
    "(a) Show $y(t)\\,\\mathbf{w^T}(t)\\,\\mathbf{x}(t) < 0$\n",
    "\n",
    "Utilizing the hints, $y(t)$ can take on two classifying values. This is $y(t) = -1$ or $y(t) = +1$. Since the point is missclassified, $y(t) \\neq \\text{sign}\\left(\\mathbf{w^T}(t)\\,\\mathbf{x}(t)\\right)$. Let's set up two cases, one where the real sign is -1 and one where the real sign is +1. \n",
    "\n",
    "#### Case 1\n",
    "If $y(t) = -1$ then our missclassified point will be have the sign $\\text{sign}\\left(\\mathbf{w^T}(t)\\,\\mathbf{x}(t)\\right) = +1$. It holds true that \\\n",
    "$$\n",
    "\\begin{align*}\n",
    "y(t)\\,\\mathbf{w^T}(t)\\,\\mathbf{x}(t) & < 0 \\\\\n",
    "(-1)(+1) & = -1 < 0\n",
    "\\end{align*}\n",
    "$$\n",
    "\n",
    "#### Case 2\n",
    "If $y(t) = +1$ then our missclassified point will be have the sign $\\text{sign}\\left(\\mathbf{w^T}(t)\\,\\mathbf{x}(t)\\right) = -1$. It holds true that \\\n",
    "$$\n",
    "\\begin{align*}\n",
    "y(t)\\,\\mathbf{w^T}(t)\\,\\mathbf{x}(t) & < 0 \\\\\n",
    "(+1)(-1) & = -1 < 0\n",
    "\\end{align*}\n",
    "$$\n",
    "\n",
    "In both cases we can conclude $x(t)$ is missclassified if $y(t)\\,\\mathbf{w^T}(t)\\,\\mathbf{x}(t) < 0$."
   ]
  },
  {
   "cell_type": "markdown",
   "metadata": {},
   "source": [
    "(b) Using the same logic as above, $y(t)$ can have two different cases. \n",
    "\n",
    "#### Case 1\n",
    "If $y(t) = -1$ then our missclassified point will be have the sign $\\text{sign}\\left(\\mathbf{w^T}(t)\\,\\mathbf{x}(t)\\right) = +1$. Equation 1.3 in AML would update the point using $\\mathbf{w}(t+1) = \\mathbf{w}(t) + y(t)\\mathbf{x}(t)$. \n",
    "\n",
    "$$\n",
    "\\mathbf{w^T}(t+1)\\,\\mathbf{x}(t) = -1 \n",
    "$$\n",
    "\n",
    "$$\n",
    "\\begin{align*}\n",
    "y(t)\\,\\mathbf{w^T}(t)\\,\\mathbf{x}(t) & = -1 \\\\\n",
    "y(t)\\,\\mathbf{w^T}(t+1)\\,\\mathbf{x}(t) & = +1 \\\\\n",
    "y(t)\\,\\mathbf{w^T}(t+1)\\,\\mathbf{x}(t) & > y(t)\\,\\mathbf{w^T}(t)\\,\\mathbf{x}(t)\n",
    "\\end{align*}\n",
    "$$\n",
    "\n",
    "#### Case 2\n",
    "$y(t) = +1$, $\\text{sign}\\left(\\mathbf{w^T}(t)\\,\\mathbf{x}(t)\\right) = -1$, $\\mathbf{w^T}(t+1)\\,\\mathbf{x}(t) = +1$ \n",
    "\n",
    "$$\n",
    "\\begin{align*}\n",
    "y(t)\\,\\mathbf{w^T}(t)\\,\\mathbf{x}(t) & = -1 \\\\\n",
    "y(t)\\,\\mathbf{w^T}(t+1)\\,\\mathbf{x}(t) & = +1 \\\\\n",
    "y(t)\\,\\mathbf{w^T}(t+1)\\,\\mathbf{x}(t) & > y(t)\\,\\mathbf{w^T}(t)\\,\\mathbf{x}(t)\n",
    "\\end{align*}\n",
    "$$"
   ]
  },
  {
   "cell_type": "markdown",
   "metadata": {},
   "source": [
    "(c) As far as classifying $\\mathbf{x}(t)$ is concerned, argue that the move from $\\mathbf{w}(t)$ to $\\mathbf{w}(t+1)$ is a move 'in the right direction'\n",
    "\n",
    "Because the multiplication of vectors, when we add a scalar (the true value of $y(t)$) multiplied by the $\\mathbf{x}$ moves in the right direction. Specificially, multiplying $\\mathbf{x}$ by $y(t)$ will move the weight vector either further positive or negative, thus slowly moving the classifying weight vector.\n",
    "\n",
    "----"
   ]
  },
  {
   "cell_type": "markdown",
   "metadata": {},
   "source": [
    "### Exercise 1. 4\n",
    "Create our own target function. \n",
    "\n",
    "I end the simulation at a small number because my computer kept freezing after too many runs taking it to converge. "
   ]
  },
  {
   "cell_type": "code",
   "execution_count": 70,
   "metadata": {},
   "outputs": [],
   "source": [
    "import numpy as np # data manipulation\n",
    "import pandas as pd # data analysis\n",
    "import random as rand # random number generator\n",
    "import math\n",
    "from matplotlib import pyplot as plt\n",
    "from matplotlib import style\n",
    "%matplotlib inline\n",
    "\n",
    "\n",
    "def data(n,s):\n",
    "    x = []\n",
    "    y = []\n",
    "    points = list()\n",
    "    #rand.seed(100)\n",
    "    for newpt in range(n):\n",
    "        x.append(rand.randint(0,s))\n",
    "    return x"
   ]
  },
  {
   "cell_type": "code",
   "execution_count": 220,
   "metadata": {},
   "outputs": [
    {
     "name": "stdout",
     "output_type": "stream",
     "text": [
      "Predicted classification: [-1.0, -1.0, -1.0, -1.0, -1.0, 1.0, -1.0, -1.0, -1.0, -1.0]\n"
     ]
    },
    {
     "data": {
      "image/png": "[encoded data removed]",
      "text/plain": [
       "<Figure size 432x288 with 1 Axes>"
      ]
     },
     "metadata": {
      "needs_background": "light"
     },
     "output_type": "display_data"
    }
   ],
   "source": [
    "# -------- #\n",
    "#  PART A  #\n",
    "# -------- #\n",
    "n = 10\n",
    "dn = np.empty([n,2])\n",
    "for vector in range(n):\n",
    "    for factor in range(2):    \n",
    "        dn[vector][factor] = data(2,10)[factor]\n",
    "\n",
    "rand.seed(333)\n",
    "w = np.random.uniform(0,2,3)\n",
    "x = [1]\n",
    "\n",
    "# create vector of xn (data)\n",
    "xn = np.ones([n,3])\n",
    "for vector in range(n):\n",
    "    for point in range(2):\n",
    "        xn[vector][point+1] = dn[vector][point]\n",
    "\n",
    "# ------------------------ #        \n",
    "# randomly classify points\n",
    "# ------------------------ #\n",
    "\n",
    "# determine how the line splits the data\n",
    "\n",
    "position = []\n",
    "y = []\n",
    "\n",
    "# calculate how the predicted y(t) from initial line\n",
    "xp = [1,n]\n",
    "plt.plot(xp,xp*w[:1])\n",
    "thresh = 150\n",
    "\n",
    "for i in range(n):\n",
    "    position.append(np.sign((xp[1] - xp[0]) * (xn[i][2] - (xp*w[:1])[0])\n",
    "                            - ((xp*w[:1])[1] - (xp*w[:1])[0]) * (xn[i][1] - xp[:1][0])))\n",
    "    if position[i] < 0:\n",
    "        plt.plot(xn[i][1],xn[i][2],\"o\",color=\"red\") #    negative points\n",
    "    else:\n",
    "        plt.plot(xn[i][1],xn[i][2],\"X\",color=\"blue\") #   positive points\n",
    "\n",
    "for i in range(n):\n",
    "    plt.text(xn[i][1]+.2,xn[i][2],i)\n",
    "\n",
    "print(\"Predicted classification:\",position)"
   ]
  },
  {
   "cell_type": "code",
   "execution_count": 322,
   "metadata": {},
   "outputs": [
    {
     "name": "stdout",
     "output_type": "stream",
     "text": [
      "Correct classification for point:\n",
      "0 is 1.0\n",
      "1 is 1.0\n",
      "2 is 1.0\n",
      "3 is -1.0\n",
      "4 is -1.0\n",
      "5 is 1.0\n",
      "6 is 1.0\n",
      "7 is 1.0\n",
      "8 is 1.0\n",
      "9 is 1.0\n",
      "10 is -1.0\n",
      "11 is 1.0\n",
      "12 is 1.0\n",
      "13 is 1.0\n",
      "14 is 1.0\n",
      "15 is -1.0\n",
      "16 is 1.0\n",
      "17 is -1.0\n",
      "18 is 1.0\n",
      "19 is 1.0\n"
     ]
    },
    {
     "data": {
      "image/png": "[encoded data removed]",
      "text/plain": [
       "<Figure size 432x288 with 1 Axes>"
      ]
     },
     "metadata": {
      "needs_background": "light"
     },
     "output_type": "display_data"
    }
   ],
   "source": [
    "# -------- #\n",
    "#  PART B  #\n",
    "# -------- #\n",
    "n = 20\n",
    "dn = np.empty([n,2])\n",
    "for vector in range(n):\n",
    "    for factor in range(2):     \n",
    "        dn[vector][factor] = data(2,n)[factor]\n",
    "\n",
    "w = np.random.uniform(0,1,3)\n",
    "x = [1]                            # first x is a one \n",
    "\n",
    "# create vector of xn (data)\n",
    "\n",
    "xn = np.ones([n,3])\n",
    "for vector in range(n):\n",
    "    for point in range(2):\n",
    "        xn[vector][point+1] = dn[vector][point]\n",
    "# ------------------------ #        \n",
    "#     classify points\n",
    "# ------------------------ #\n",
    "\n",
    "position = []\n",
    "y = []\n",
    "\n",
    "# calculate how the predicted y(t) from initial line\n",
    "\n",
    "xp = [0,n]\n",
    "plt.plot(xp,xp*w[1:]+w[0])\n",
    "\n",
    "for i in range(n):\n",
    "    y.append(np.sign((xp[1] - xp[0]) * (xn[i][2] - (xp*w[:1])[0])\n",
    "                            - ((xp*w[:1])[1] - (xp*w[:1])[0]) \n",
    "                     * (xn[i][1] - xp[:1][0])-w[0]))\n",
    "    if y[i] < 0:\n",
    "        plt.plot(xn[i][1],xn[i][2],\"o\",color=\"red\")\n",
    "        plt.text(xn[i][1]+.1,xn[i][2],i)            #    negative points\n",
    "    else:\n",
    "        plt.plot(xn[i][1],xn[i][2],\"X\",color=\"blue\") #   positive points    \n",
    "        plt.text(xn[i][1]+.1,xn[i][2],i)\n",
    "        \n",
    "print(\"Correct classification for point:\")\n",
    "for i in range(n):\n",
    "     print(\"%s is %s\" % (i,y[i]))"
   ]
  },
  {
   "cell_type": "code",
   "execution_count": 327,
   "metadata": {},
   "outputs": [
    {
     "name": "stderr",
     "output_type": "stream",
     "text": [
      "No handles with labels found to put in legend.\n"
     ]
    },
    {
     "name": "stdout",
     "output_type": "stream",
     "text": [
      "---- RUN 0 ----\n",
      "WEIGHT VECTOR: [0.62989233 0.57316743 0.26277035]\n",
      "\tCorrect\t\t\t[ 1. 15.  7.]\n",
      "\tCorrect\t\t\t[ 1.  9. 12.]\n",
      "\tCorrect\t\t\t[ 1. 13.  9.]\n",
      "\tMissclassified \t\t[ 1. 11.  4.]\n",
      "\tCorrect\t\t\t[ 1. 12.  2.]\n",
      "\tMissclassified \t\t[ 1.  1. 11.]\n",
      "\tCorrect\t\t\t[ 1.  1. 16.]\n",
      "\tMissclassified \t\t[ 1. 19. 20.]\n",
      "\tCorrect\t\t\t[ 1.  5. 16.]\n",
      "\tCorrect\t\t\t[ 1. 20. 15.]\n",
      "\tMissclassified \t\t[ 1. 10.  2.]\n",
      "\tCorrect\t\t\t[ 1. 18.  9.]\n",
      "\tCorrect\t\t\t[ 1. 16. 13.]\n",
      "\tCorrect\t\t\t[1. 0. 6.]\n",
      "\tCorrect\t\t\t[ 1. 15. 19.]\n",
      "\tMissclassified \t\t[ 1. 18.  4.]\n",
      "\tMissclassified \t\t[1. 5. 3.]\n",
      "\tCorrect\t\t\t[ 1. 12.  0.]\n",
      "\tCorrect\t\t\t[ 1. 17. 15.]\n",
      "\tCorrect\t\t\t[ 1.  1. 17.]\n"
     ]
    },
    {
     "data": {
      "image/png": "[encoded data removed]",
      "text/plain": [
       "<Figure size 432x288 with 1 Axes>"
      ]
     },
     "metadata": {
      "needs_background": "light"
     },
     "output_type": "display_data"
    },
    {
     "name": "stderr",
     "output_type": "stream",
     "text": [
      "No handles with labels found to put in legend.\n"
     ]
    },
    {
     "name": "stdout",
     "output_type": "stream",
     "text": [
      "----------------\n",
      "\n",
      "\n",
      "---- RUN 1 ----\n",
      "WEIGHT VECTOR: [  0.62989233 -13.42683257  24.26277035]\n",
      "\tMissclassified \t\t[ 1. 15.  7.]\n",
      "\tCorrect\t\t\t[ 1.  9. 12.]\n",
      "\tCorrect\t\t\t[ 1. 13.  9.]\n",
      "\tMissclassified \t\t[ 1. 11.  4.]\n",
      "\tCorrect\t\t\t[ 1. 12.  2.]\n",
      "\tCorrect\t\t\t[ 1.  1. 11.]\n",
      "\tCorrect\t\t\t[ 1.  1. 16.]\n",
      "\tCorrect\t\t\t[ 1. 19. 20.]\n",
      "\tCorrect\t\t\t[ 1.  5. 16.]\n",
      "\tCorrect\t\t\t[ 1. 20. 15.]\n",
      "\tCorrect\t\t\t[ 1. 10.  2.]\n",
      "\tCorrect\t\t\t[ 1. 18.  9.]\n",
      "\tCorrect\t\t\t[ 1. 16. 13.]\n",
      "\tCorrect\t\t\t[1. 0. 6.]\n",
      "\tCorrect\t\t\t[ 1. 15. 19.]\n",
      "\tCorrect\t\t\t[ 1. 18.  4.]\n",
      "\tCorrect\t\t\t[1. 5. 3.]\n",
      "\tCorrect\t\t\t[ 1. 12.  0.]\n",
      "\tCorrect\t\t\t[ 1. 17. 15.]\n",
      "\tCorrect\t\t\t[ 1.  1. 17.]\n"
     ]
    },
    {
     "data": {
      "image/png": "[encoded data removed]",
      "text/plain": [
       "<Figure size 432x288 with 1 Axes>"
      ]
     },
     "metadata": {
      "needs_background": "light"
     },
     "output_type": "display_data"
    },
    {
     "name": "stderr",
     "output_type": "stream",
     "text": [
      "No handles with labels found to put in legend.\n"
     ]
    },
    {
     "name": "stdout",
     "output_type": "stream",
     "text": [
      "----------------\n",
      "\n",
      "\n",
      "---- RUN 2 ----\n",
      "WEIGHT VECTOR: [ 0.62989233 -9.42683257 27.26277035]\n",
      "\tCorrect\t\t\t[ 1. 15.  7.]\n",
      "\tCorrect\t\t\t[ 1.  9. 12.]\n",
      "\tCorrect\t\t\t[ 1. 13.  9.]\n",
      "\tMissclassified \t\t[ 1. 11.  4.]\n",
      "\tCorrect\t\t\t[ 1. 12.  2.]\n",
      "\tCorrect\t\t\t[ 1.  1. 11.]\n",
      "\tCorrect\t\t\t[ 1.  1. 16.]\n",
      "\tCorrect\t\t\t[ 1. 19. 20.]\n",
      "\tCorrect\t\t\t[ 1.  5. 16.]\n",
      "\tMissclassified \t\t[ 1. 20. 15.]\n",
      "\tMissclassified \t\t[ 1. 10.  2.]\n",
      "\tCorrect\t\t\t[ 1. 18.  9.]\n",
      "\tCorrect\t\t\t[ 1. 16. 13.]\n",
      "\tCorrect\t\t\t[1. 0. 6.]\n",
      "\tCorrect\t\t\t[ 1. 15. 19.]\n",
      "\tCorrect\t\t\t[ 1. 18.  4.]\n",
      "\tCorrect\t\t\t[1. 5. 3.]\n",
      "\tCorrect\t\t\t[ 1. 12.  0.]\n",
      "\tCorrect\t\t\t[ 1. 17. 15.]\n",
      "\tCorrect\t\t\t[ 1.  1. 17.]\n"
     ]
    },
    {
     "data": {
      "image/png": "[encoded data removed]",
      "text/plain": [
       "<Figure size 432x288 with 1 Axes>"
      ]
     },
     "metadata": {
      "needs_background": "light"
     },
     "output_type": "display_data"
    },
    {
     "name": "stdout",
     "output_type": "stream",
     "text": [
      "----------------\n",
      "\n",
      "\n",
      "---- RUN 3 ----\n",
      "WEIGHT VECTOR: [ -0.37010767 -10.42683257  36.26277035]\n"
     ]
    },
    {
     "name": "stderr",
     "output_type": "stream",
     "text": [
      "No handles with labels found to put in legend.\n"
     ]
    },
    {
     "name": "stdout",
     "output_type": "stream",
     "text": [
      "\tCorrect\t\t\t[ 1. 15.  7.]\n",
      "\tCorrect\t\t\t[ 1.  9. 12.]\n",
      "\tCorrect\t\t\t[ 1. 13.  9.]\n",
      "\tMissclassified \t\t[ 1. 11.  4.]\n",
      "\tCorrect\t\t\t[ 1. 12.  2.]\n",
      "\tCorrect\t\t\t[ 1.  1. 11.]\n",
      "\tCorrect\t\t\t[ 1.  1. 16.]\n",
      "\tCorrect\t\t\t[ 1. 19. 20.]\n",
      "\tCorrect\t\t\t[ 1.  5. 16.]\n",
      "\tCorrect\t\t\t[ 1. 20. 15.]\n",
      "\tCorrect\t\t\t[ 1. 10.  2.]\n",
      "\tMissclassified \t\t[ 1. 18.  9.]\n",
      "\tCorrect\t\t\t[ 1. 16. 13.]\n",
      "\tCorrect\t\t\t[1. 0. 6.]\n",
      "\tCorrect\t\t\t[ 1. 15. 19.]\n",
      "\tMissclassified \t\t[ 1. 18.  4.]\n",
      "\tCorrect\t\t\t[1. 5. 3.]\n",
      "\tCorrect\t\t\t[ 1. 12.  0.]\n",
      "\tCorrect\t\t\t[ 1. 17. 15.]\n",
      "\tCorrect\t\t\t[ 1.  1. 17.]\n"
     ]
    },
    {
     "data": {
      "image/png": "[encoded data removed]",
      "text/plain": [
       "<Figure size 432x288 with 1 Axes>"
      ]
     },
     "metadata": {
      "needs_background": "light"
     },
     "output_type": "display_data"
    },
    {
     "name": "stdout",
     "output_type": "stream",
     "text": [
      "----------------\n",
      "\n",
      "\n",
      "---- RUN 4 ----\n",
      "WEIGHT VECTOR: [ -1.37010767 -21.42683257  37.26277035]\n"
     ]
    },
    {
     "name": "stderr",
     "output_type": "stream",
     "text": [
      "No handles with labels found to put in legend.\n"
     ]
    },
    {
     "name": "stdout",
     "output_type": "stream",
     "text": [
      "\tMissclassified \t\t[ 1. 15.  7.]\n",
      "\tCorrect\t\t\t[ 1.  9. 12.]\n",
      "\tCorrect\t\t\t[ 1. 13.  9.]\n",
      "\tMissclassified \t\t[ 1. 11.  4.]\n",
      "\tCorrect\t\t\t[ 1. 12.  2.]\n",
      "\tCorrect\t\t\t[ 1.  1. 11.]\n",
      "\tCorrect\t\t\t[ 1.  1. 16.]\n",
      "\tCorrect\t\t\t[ 1. 19. 20.]\n",
      "\tCorrect\t\t\t[ 1.  5. 16.]\n",
      "\tCorrect\t\t\t[ 1. 20. 15.]\n",
      "\tCorrect\t\t\t[ 1. 10.  2.]\n",
      "\tCorrect\t\t\t[ 1. 18.  9.]\n",
      "\tCorrect\t\t\t[ 1. 16. 13.]\n",
      "\tCorrect\t\t\t[1. 0. 6.]\n",
      "\tCorrect\t\t\t[ 1. 15. 19.]\n",
      "\tCorrect\t\t\t[ 1. 18.  4.]\n",
      "\tCorrect\t\t\t[1. 5. 3.]\n",
      "\tCorrect\t\t\t[ 1. 12.  0.]\n",
      "\tCorrect\t\t\t[ 1. 17. 15.]\n",
      "\tCorrect\t\t\t[ 1.  1. 17.]\n"
     ]
    },
    {
     "data": {
      "image/png": "[encoded data removed]",
      "text/plain": [
       "<Figure size 432x288 with 1 Axes>"
      ]
     },
     "metadata": {
      "needs_background": "light"
     },
     "output_type": "display_data"
    },
    {
     "name": "stderr",
     "output_type": "stream",
     "text": [
      "No handles with labels found to put in legend.\n"
     ]
    },
    {
     "name": "stdout",
     "output_type": "stream",
     "text": [
      "----------------\n",
      "\n",
      "\n",
      "---- RUN 5 ----\n",
      "WEIGHT VECTOR: [ -1.37010767 -17.42683257  40.26277035]\n",
      "\tCorrect\t\t\t[ 1. 15.  7.]\n",
      "\tCorrect\t\t\t[ 1.  9. 12.]\n",
      "\tCorrect\t\t\t[ 1. 13.  9.]\n",
      "\tCorrect\t\t\t[ 1. 11.  4.]\n",
      "\tCorrect\t\t\t[ 1. 12.  2.]\n",
      "\tCorrect\t\t\t[ 1.  1. 11.]\n",
      "\tCorrect\t\t\t[ 1.  1. 16.]\n",
      "\tCorrect\t\t\t[ 1. 19. 20.]\n",
      "\tCorrect\t\t\t[ 1.  5. 16.]\n",
      "\tCorrect\t\t\t[ 1. 20. 15.]\n",
      "\tCorrect\t\t\t[ 1. 10.  2.]\n",
      "\tCorrect\t\t\t[ 1. 18.  9.]\n",
      "\tCorrect\t\t\t[ 1. 16. 13.]\n",
      "\tCorrect\t\t\t[1. 0. 6.]\n",
      "\tCorrect\t\t\t[ 1. 15. 19.]\n",
      "\tCorrect\t\t\t[ 1. 18.  4.]\n",
      "\tCorrect\t\t\t[1. 5. 3.]\n",
      "\tCorrect\t\t\t[ 1. 12.  0.]\n",
      "\tCorrect\t\t\t[ 1. 17. 15.]\n",
      "\tCorrect\t\t\t[ 1.  1. 17.]\n"
     ]
    },
    {
     "data": {
      "image/png": "[encoded data removed]",
      "text/plain": [
       "<Figure size 432x288 with 1 Axes>"
      ]
     },
     "metadata": {
      "needs_background": "light"
     },
     "output_type": "display_data"
    },
    {
     "name": "stdout",
     "output_type": "stream",
     "text": [
      "----------------\n",
      "\n",
      "\n"
     ]
    }
   ],
   "source": [
    "# -------------- \n",
    "# print out data\n",
    "# -------------- \n",
    "\n",
    "\n",
    "# create new weight vector to be trained\n",
    "\n",
    "wTrain = np.random.uniform(0,1,3)\n",
    "       \n",
    "# create the perceptron algorithm\n",
    "\n",
    "# ---------------------- #\n",
    "# initialize environment #\n",
    "# ---------------------- #\n",
    "\n",
    "\n",
    "\n",
    "status = []                                      #     Checks convergence of PLA  #\n",
    "count = 0                                        #     Number of runs counter.    #\n",
    "\n",
    "\n",
    "                                                 #     while the sum of the last n runs doesnt                #\n",
    "                                                 #     equal n keep running (all points correctly classified) #\n",
    "\n",
    "while sum(status[-n:]) != n:\n",
    "    \n",
    "    \n",
    "    print(\"---- RUN %s ----\" % count)\n",
    "    print(\"WEIGHT VECTOR:\",wTrain)\n",
    "\n",
    "#     is current point is   #\n",
    "#      classified right     #\n",
    "# ----(glass half full)---- #\n",
    "\n",
    "    plt.figure()\n",
    "    plt.title(\"Perceptron Learning Algorithm\")\n",
    "    \n",
    "    for i in range(n):\n",
    "        if np.sign(sum(wTrain*xn[i])) == y[i]:                        #    from EX 1.3      */\n",
    "            print(\"\\tCorrect\\t\\t\\t%s\" % (xn[i]))\n",
    "        \n",
    "            plt.plot(xn[i][1],xn[i][2],\"o\",color=\"green\")\n",
    "            plt.text(xn[i][1]+.2,xn[i][2],y[i])\n",
    "            status.append(1)                                     #    add 1 to status  */\n",
    "\n",
    "\n",
    "        else:\n",
    "            print(\"\\tMissclassified \\t\\t%s\" % (xn[i]))\n",
    "            \n",
    "            plt.plot(xn[i][1],xn[i][2],\"o\",color=\"red\")\n",
    "            plt.text(xn[i][1]+.2,xn[i][2],y[i])\n",
    "            \n",
    "            status.append(0)\n",
    "            wTrain = wTrain + y[i]*xn[i] #   reset weight vector */\n",
    "    plt.show()        \n",
    "    count+=1\n",
    "    print(\"----------------\")\n",
    "    print(\"\\n\")\n",
    "    \n",
    "    if count > (n*n):\n",
    "        break"
   ]
  },
  {
   "cell_type": "code",
   "execution_count": 336,
   "metadata": {},
   "outputs": [
    {
     "data": {
      "image/png": "[encoded data removed]",
      "text/plain": [
       "<Figure size 432x288 with 1 Axes>"
      ]
     },
     "metadata": {
      "needs_background": "light"
     },
     "output_type": "display_data"
    },
    {
     "name": "stdout",
     "output_type": "stream",
     "text": [
      "The initial classifying weight vector is: \n",
      " [0.41642603 0.57551619 0.41842063] \n",
      "\n",
      "The final classifying weight vector is: \n",
      " [ -1.37010767 -17.42683257  40.26277035]\n"
     ]
    }
   ],
   "source": [
    "# HOW WELL DO THE FUNCTIONS MATCH #\n",
    "\n",
    "plt.figure()\n",
    "plt.title(\"Perceptron Learning Algorithm\")\n",
    "for i in range(n):\n",
    "    if y[i] < 0:\n",
    "        plt.plot(xn[i][1],xn[i][2],\"o\",color=\"red\")\n",
    "        plt.text(xn[i][1]+.1,xn[i][2],y[i])            #    negative points\n",
    "    else:\n",
    "        plt.plot(xn[i][1],xn[i][2],\"X\",color=\"blue\") #   positive points    \n",
    "        plt.text(xn[i][1]+.1,xn[i][2],y[i])\n",
    "\n",
    "xp = [0,n]\n",
    "plt.plot(xp,xp*w[1:]+w[0],label=\"Classifying Vector\")\n",
    "\n",
    "plt.legend()\n",
    "plt.show()\n",
    "\n",
    "print(\"The initial classifying weight vector is: \\n\",w,\"\\n\")\n",
    "print(\"The final classifying weight vector is: \\n\", wTrain)"
   ]
  },
  {
   "cell_type": "markdown",
   "metadata": {},
   "source": [
    "Unfortunately, the weight vectors are not similar, however the algorithm correctly classifies the points based on the initial classifier. "
   ]
  },
  {
   "cell_type": "markdown",
   "metadata": {},
   "source": [
    "---\n",
    "### Exercise 1.5\n",
    "\n",
    "Which problems are more suited for the learning approach and which are more suited for the design approach?\n",
    "\n",
    "The main difference between the two approaches is that learning uses data while design does not. The design approach based on specifications in pattern recognition (AML 9). "
   ]
  },
  {
   "cell_type": "markdown",
   "metadata": {},
   "source": [
    "| Approach Used   |     |    |   |\n",
    "| :-------------- | :-- | -- | --|\n",
    "| Learning        | (a) |(d) |(e)|\n",
    "| Design          | (b) |(c) |\n",
    "\n",
    "---"
   ]
  },
  {
   "cell_type": "markdown",
   "metadata": {},
   "source": [
    "### Exercise 1.6\n",
    "\n",
    "For each of the tasks identify which type of learning is involved and the training data used. If a task can fit more than one type, explain how and describe the training data for each type. \n",
    "\n",
    "1. Supervised\n",
    "2. Reinforcement\n",
    "3. Unsupervised\n",
    "\n",
    "#### Recommending a book to a user in  an online bookstore.\n",
    "This task requires <b>supervised learning</b> because we need to have previous customer information to train the system on how to make recommendatins and the training data consists of vectors of books the user has bought and how they rated them. \n",
    "\n",
    "\n",
    "\n",
    "#### Playing tic-tac-toe\n",
    "Since we know partly what each move would result in after we perform it (we can know wheather it got us closer to winning) this categorizes as <b>reinforcement learning</b>. The input would be where you place your mark, some output would be where your opponent places theirs and if you won, you could grade the output as negative (you loss), neutral (your opponent placed something in your direction, good (you won). \n",
    "\n",
    "#### Categorizing movies into different types \n",
    "<b>Unsupervised learning:</b> In this situation we could take in account all the characteristics or properties of each movie for training data and see how they cluster and then review the data and categorize the movie. \n",
    "\n",
    "<b>Supervised learning:</b> We could also use supervised learning since we can have properties of \"classic\" or \"stereotypical\" movies in each genre and use their characteristics to guide our learning of other movies. The training inputs would be a vector of characteristics and the output would be the movie category. \n",
    "\n",
    "#### Learning to play music\n",
    "This would be <b>reinforcement learning</b> because music is subjective (in terms of being good) except there are ways to know when something is in tune versus not. Training data input would be a vector of music characteristics (bass, treble, cadence, repetition, chords, lyricism), some output would be genre of music and grade would be how well the chord fits into the genre. Also the system would get better and better at playing music the more training data examples it has. \n",
    "\n",
    "The problem could also be thought of as <b>unsupervised learning</b> since learning music is almost like learning a new language. The input would be the same as in reinforcement learning however it would be unlabled, as unsupervised learning calls for. As the music clusters, the machine could know what \"cluster\" (music genre) it would like to play and create something using the characteristics of a particular cluster."
   ]
  },
  {
   "cell_type": "markdown",
   "metadata": {},
   "source": [
    "### Exercise 1.10 \n",
    "\n",
    "Simulation that flips 1,000 coins. "
   ]
  },
  {
   "cell_type": "code",
   "execution_count": 5,
   "metadata": {},
   "outputs": [],
   "source": [
    "import numpy as np # array of coin flips\n",
    "import random as rand # select a random coin\n",
    "\n",
    "n = 10 # flip a coin 10 times\n",
    "nrep = 1000\n",
    "\n",
    "def coinFlips(n,nrep) :\n",
    "    coins = np.zeros((nrep,n+1)) # initialize list of coins\n",
    "\n",
    "# start coin flips\n",
    "    for reps in range(nrep):\n",
    "        for flips in range(n):\n",
    "            output = rand.choices([1,0],weights=[0.5,0.5],k=1)[0] # outcome of coin flip with 50% probability\n",
    "            coins[reps,flips] = output # assign outcome to vector for certain coin\n",
    "        avg = np.average(coins[reps]) # compute mu for each coin (number of heads / total flips)\n",
    "        coins[reps,10] = round(avg,3)\n",
    "\n",
    "    cFirst = coins[0] # first coin\n",
    "    cFirst_ind = 0\n",
    "\n",
    "    cRand_ind = rand.randint(0,nrep-1)\n",
    "    cRand = coins[cRand_ind] # random coin\n",
    "\n",
    "    cMin_ind = np.where(coins == np.min(coins[np.nonzero(coins)]))[0][0]\n",
    "    cMin = coins[cMin_ind] # coin with smallest number of heads\n",
    "    \n",
    "\n",
    "    totalHeads = np.sum(coins[[0,cRand_ind,cMin_ind],0:n])     # fraction of heads in respective coins\n",
    "\n",
    "    vFirst = np.sum(coins[0,0:n])/totalHeads\n",
    "    vRand = np.sum(coins[cRand_ind,0:n])/totalHeads\n",
    "    vMin = np.sum(coins[cMin_ind,0:n])/totalHeads\n",
    "    \n",
    "    return coins,cFirst,vFirst,cRand_ind,cRand,vRand,cMin_ind,cMin,vMin\n"
   ]
  },
  {
   "cell_type": "code",
   "execution_count": 6,
   "metadata": {},
   "outputs": [],
   "source": [
    "cF = coinFlips(10,1000)\n",
    "\n",
    "cFirst = cF[1]\n",
    "vFirst = cF[2]\n",
    "\n",
    "cRand_ind = cF[3]\n",
    "cRand = cF[4]\n",
    "vRand = cF[5]\n",
    "\n",
    "cMin_ind = cF[6]\n",
    "cMin = cF[7]\n",
    "vMin = cF[8]"
   ]
  },
  {
   "cell_type": "markdown",
   "metadata": {},
   "source": [
    "#### Part (a)\n",
    "What is $\\mu$ for the three coins selected? (Probability of getting a head)"
   ]
  },
  {
   "cell_type": "code",
   "execution_count": 7,
   "metadata": {},
   "outputs": [
    {
     "name": "stdout",
     "output_type": "stream",
     "text": [
      "The mu for the first coin is 0.364. \n",
      " The mu for coin 971 (a randomly selected coin) is 0.364. \n",
      " The mu for coin 108 (the coin with least heads) is 0.091\n"
     ]
    }
   ],
   "source": [
    "m1 = cFirst[10]\n",
    "mr = cRand[10]\n",
    "mm = cMin[10]\n",
    "print(\"The mu for the first coin is %s. \\n The mu for coin %s (a randomly selected coin) is %s. \\n The mu for coin %s (the coin with least heads) is %s\" % (m1,cRand_ind,mr,cMin_ind,mm))\n"
   ]
  },
  {
   "cell_type": "markdown",
   "metadata": {},
   "source": [
    "#### Part (b)\n"
   ]
  },
  {
   "cell_type": "code",
   "execution_count": 8,
   "metadata": {},
   "outputs": [],
   "source": [
    "# create function that does a certain number for repetitions of the experiment\n",
    "\n",
    "def Trials(rep):\n",
    "    v1 = np.zeros(rep)\n",
    "    vrand = np.zeros(rep)\n",
    "    vmin = np.zeros(rep)\n",
    "    m1 = np.zeros(rep)\n",
    "    mrand = np.zeros(rep)\n",
    "    mmin = np.zeros(rep)\n",
    "    for i in range(rep):\n",
    "        cf = coinFlips(10,1000)\n",
    "        v1[i] = round(cf[2],3)\n",
    "        vrand[i] = round(cf[5],3)\n",
    "        vmin[i] = round(cf[8],3)\n",
    "    return v1, vrand, vmin"
   ]
  },
  {
   "cell_type": "code",
   "execution_count": 9,
   "metadata": {
    "scrolled": true
   },
   "outputs": [
    {
     "data": {
      "image/png": "[encoded data removed]",
      "text/plain": [
       "<Figure size 432x288 with 3 Axes>"
      ]
     },
     "metadata": {
      "needs_background": "light"
     },
     "output_type": "display_data"
    }
   ],
   "source": [
    "import matplotlib.pyplot as plt\n",
    "import numpy as np\n",
    "from matplotlib import colors \n",
    "from matplotlib.ticker import PercentFormatter as pf\n",
    "%matplotlib inline\n",
    "\n",
    "\n",
    "reps = 100\n",
    "\n",
    "t = Trials(reps)\n",
    "\n",
    "label = [\"First\",\"Random\",\"Minimum\"]\n",
    "\n",
    "fig, axs = plt.subplots(3, sharex=True)\n",
    "fig.suptitle('Histograms')\n",
    "fig.tight_layout(pad=2.0)\n",
    "\n",
    "for i in range(3):\n",
    "    axs[i].set_title(label[i])\n",
    "    axs[i].hist(t[i])\n",
    "\n",
    "\n"
   ]
  },
  {
   "cell_type": "markdown",
   "metadata": {},
   "source": [
    "#### Part C\n",
    "\n",
    "Using (b), plot estimates for $P[|\\nu-\\mu| > \\epsilon]$ as function of $\\epsilon$, together with the Hoeffding bound $2e^{-2\\epsilon^2N}$ (on the same graph)\n",
    "\n"
   ]
  },
  {
   "cell_type": "code",
   "execution_count": 10,
   "metadata": {},
   "outputs": [],
   "source": [
    "import matplotlib.pyplot as plt\n",
    "import random as rand\n",
    "import numpy as np\n",
    "import math as m\n",
    "from matplotlib import colors \n",
    "from matplotlib.ticker import PercentFormatter as pf\n",
    "%matplotlib inline\n",
    "\n",
    "# ------------------------------------------\n",
    "# replications of entire experiment\n",
    "# ------------------------------------------\n",
    "\n",
    "reps = 1000\n",
    "df = Trials(reps) # number of times experiment is done\n",
    "\n",
    "v1 = df[0]\n",
    "vrand = df[1] \n",
    "vmin = df[2] \n",
    "mu = [m1,mr,mm] # average from above\n",
    "\n",
    "# ------------------------------------------------------\n",
    "# probability (lower bound of hoeffding's inequality)\n",
    "# ------------------------------------------------------\n",
    "\n",
    "e = np.sort(np.random.uniform(0,1,10))\n",
    "def prob(e,v,m):\n",
    "    count = np.zeros(len(e))\n",
    "    for i in range(len(e)): \n",
    "        count[i] = sum(abs(v-m) > e[i])\n",
    "    return(count/len(e))\n",
    "\n",
    "# ------------------------------------------------------\n",
    "# hoeffdings upper bound\n",
    "# ------------------------------------------------------\n",
    "\n",
    "def Hoeff(e,N,reps):\n",
    "    hb = np.zeros(reps)\n",
    "    for i in range(reps):\n",
    "        hb[i] = 2*m.exp(-2*(e[i]**2)*N)\n",
    "    return hb\n",
    "    \n",
    "e = np.sort(np.random.uniform(0,1,reps))  # Create sorted list of tolerance levels > 0 to test HI\n",
    "hoef = Hoeff(e,10,reps)\n",
    "\n",
    "# ------------------------\n",
    "# HOUSEKEEPING FOR LOOPS |\n",
    "# ------------------------\n",
    "\n",
    "label = [\"Probability\",\"Hoeffding's UB\"]\n",
    "colors = [\"blue\",\"orange\"]\n",
    "\n",
    "first = [prob(e,v1,m1),hoef]\n",
    "rand = [prob(e,vrand,mr),hoef]\n",
    "minn = [prob(e,vmin,mm),hoef]"
   ]
  },
  {
   "cell_type": "code",
   "execution_count": 11,
   "metadata": {},
   "outputs": [
    {
     "data": {
      "text/plain": [
       "<matplotlib.legend.Legend at 0x114ae1a60>"
      ]
     },
     "execution_count": 11,
     "metadata": {},
     "output_type": "execute_result"
    },
    {
     "data": {
      "image/png": "[encoded data removed]",
      "text/plain": [
       "<Figure size 432x288 with 3 Axes>"
      ]
     },
     "metadata": {
      "needs_background": "light"
     },
     "output_type": "display_data"
    }
   ],
   "source": [
    "fig, axs = plt.subplots(3, sharex=True, sharey=True)\n",
    "fig.suptitle(\"Coin Flips: Hoeffding's Inequality\")\n",
    "#axs.legend(loc=\"upper left\")\n",
    "fig.tight_layout(pad=1.0)\n",
    "df = [first,rand,minn]\n",
    "name = [\"First\", \"Random\", \"Minimums\"]\n",
    "\n",
    "# ------------------------------------------------------------\n",
    "# Plot the lower and upper bound of Hoeffding's Inequality\n",
    "# ------------------------------------------------------------\n",
    "\n",
    "for i in range(3):\n",
    "    axs[i].set_title(name[i]) \n",
    "    for j in range(2):\n",
    "        axs[i].plot(e,df[i][j],color=colors[j],label=label[j]) # plot lines on each figure\n",
    "\n",
    "axs[2].set(xlabel='Tolerance Level: \\u03B5')\n",
    "            \n",
    "axs[0].legend(loc=\"best\",fontsize = \"small\")"
   ]
  },
  {
   "cell_type": "markdown",
   "metadata": {},
   "source": [
    "#### Part D\n",
    "Which coins obey the Hoeffding bound, and which ones do not? Explain why\n",
    "\n"
   ]
  },
  {
   "cell_type": "markdown",
   "metadata": {},
   "source": [
    "The first and the random coins follow the Hoeffding bound, however the minimum coin does not. When the tolerance level increases past 0.2, the HI no longer holds true for the minimum coin. This is because $|v-\\mu|$ is always signifigantly large in relation to $\\epsilon$ and out probability can never be greater than one but the UB of the Hoeffding Inequality can up to 2 as $\\epsilon$ approaches zero.\n",
    "\n",
    "As our tolerance increases, the $P[|v-\\mu| > \\epsilon]$ approaches 0 which makes sense in the terms of the problem. The more we allow for a difference between the sample fraction and the true mean, the less chance the absolute of the difference will be greater than said tolerance level. \n",
    "\n",
    "Because the first and the random coin are not selected based on the values in the flips like the minimum coin, they have more of a chance to be closer to the true mu of fair coins, 0.5 chance of getting a tails or heads and always obey the Hoeffding bound.  "
   ]
  },
  {
   "cell_type": "markdown",
   "metadata": {},
   "source": [
    "#### Part E\n",
    "\n",
    "Relate part (d) to the multiple bins in Figure 1.10"
   ]
  },
  {
   "cell_type": "markdown",
   "metadata": {},
   "source": [
    "In our coin flipping problem, the fraction of heads we obtain for the three coins in the trials is the same as the $E_{\\text{in}}(h_m)$ draw from the bin of $E_{\\text{out}}(h_m)$. The 10 coin flips we perform is the set $M$, and we do each one 1000 times (the total 100 times being the flips of the same coin in the bins). \n",
    "\n",
    "Each the first, random, and minimum coin of each experiment represent the hypothesis $M$ from the total set $\\mathcal{H}$ of hypotheses. As the book mentions, $v$ is out of our control (done each trial) and represents the fraction of heads for each sample of coin, however we know what the output SHOULD be ($\\mu$) from the initial experiment. \n",
    "\n",
    "If we change the expected output for the average $\\mu = 0.5$ (See below) which is what common sense tells us our ratio should be then, all but the minimum coin follow the distribtution. "
   ]
  },
  {
   "cell_type": "code",
   "execution_count": 12,
   "metadata": {},
   "outputs": [
    {
     "data": {
      "text/plain": [
       "<matplotlib.legend.Legend at 0x1149e8160>"
      ]
     },
     "execution_count": 12,
     "metadata": {},
     "output_type": "execute_result"
    },
    {
     "data": {
      "image/png": "[encoded data removed]",
      "text/plain": [
       "<Figure size 432x288 with 3 Axes>"
      ]
     },
     "metadata": {
      "needs_background": "light"
     },
     "output_type": "display_data"
    }
   ],
   "source": [
    "first = [prob(e,v1,0.5),hoef]\n",
    "rand = [prob(e,vrand,0.5),hoef]\n",
    "minn = [prob(e,vmin,0.5),hoef]\n",
    "\n",
    "fig, axs = plt.subplots(3, sharex=True, sharey=True)\n",
    "fig.suptitle(\"Coin Flips: Hoeffding's Inequality\")\n",
    "#axs.legend(loc=\"upper left\")\n",
    "fig.tight_layout(pad=1.0)\n",
    "df = [first,rand,minn]\n",
    "name = [\"First\", \"Random\", \"Minimums\"]\n",
    "\n",
    "# ------------------------------------------------------------\n",
    "# Plot the lower and upper bound of Hoeffding's Inequality\n",
    "# ------------------------------------------------------------\n",
    "\n",
    "for i in range(3):\n",
    "    axs[i].set_title(name[i]) \n",
    "    for j in range(2):\n",
    "        axs[i].plot(e,df[i][j],color=colors[j],label=label[j]) # plot lines on each figure\n",
    "            \n",
    "axs[0].legend(loc=\"best\",fontsize = \"small\")"
   ]
  },
  {
   "cell_type": "code",
   "execution_count": null,
   "metadata": {},
   "outputs": [],
   "source": []
  }
 ],
 "metadata": {
  "kernelspec": {
   "display_name": "Python 3",
   "language": "python",
   "name": "python3"
  },
  "language_info": {
   "codemirror_mode": {
    "name": "ipython",
    "version": 3
   },
   "file_extension": ".py",
   "mimetype": "text/x-python",
   "name": "python",
   "nbconvert_exporter": "python",
   "pygments_lexer": "ipython3",
   "version": "3.8.3"
  }
 },
 "nbformat": 4,
 "nbformat_minor": 4
}
